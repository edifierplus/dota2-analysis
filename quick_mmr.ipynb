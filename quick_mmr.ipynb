{
 "cells": [
  {
   "cell_type": "code",
   "execution_count": 1,
   "metadata": {},
   "outputs": [
    {
     "ename": "ModuleNotFoundError",
     "evalue": "No module named 'requests'",
     "output_type": "error",
     "traceback": [
      "\u001b[0;31m---------------------------------------------------------------------------\u001b[0m",
      "\u001b[0;31mModuleNotFoundError\u001b[0m                       Traceback (most recent call last)",
      "\u001b[0;32m<ipython-input-1-fa6c17a4aed9>\u001b[0m in \u001b[0;36m<module>\u001b[0;34m()\u001b[0m\n\u001b[0;32m----> 1\u001b[0;31m \u001b[0;32mimport\u001b[0m \u001b[0mrequests\u001b[0m\u001b[0;34m\u001b[0m\u001b[0m\n\u001b[0m\u001b[1;32m      2\u001b[0m \u001b[0;32mimport\u001b[0m \u001b[0mmatplotlib\u001b[0m\u001b[0;34m\u001b[0m\u001b[0m\n\u001b[1;32m      3\u001b[0m \u001b[0;32mimport\u001b[0m \u001b[0mjson\u001b[0m\u001b[0;34m\u001b[0m\u001b[0m\n\u001b[1;32m      4\u001b[0m \u001b[0;32mimport\u001b[0m \u001b[0mpandas\u001b[0m\u001b[0;34m\u001b[0m\u001b[0m\n\u001b[1;32m      5\u001b[0m \u001b[0;34m\u001b[0m\u001b[0m\n",
      "\u001b[0;31mModuleNotFoundError\u001b[0m: No module named 'requests'"
     ]
    }
   ],
   "source": [
    "import requests\n",
    "import matplotlib\n",
    "import json\n",
    "import pandas\n",
    "\n",
    "open_dota_url = 'https://api.opendota.com/api/'\n",
    "s = requests.session()"
   ]
  },
  {
   "cell_type": "code",
   "execution_count": 16,
   "metadata": {},
   "outputs": [],
   "source": [
    "def display(response):\n",
    "    print(json.dumps(json.loads(response.content), indent=2, ensure_ascii=False))\n",
    "    return\n",
    "\n",
    "def parse(response):\n",
    "    return json.loads(response.content)\n",
    "\n",
    "account_id_dict = {\n",
    "    108664808: 'WoodRun',\n",
    "    143671883: '全能大叔',\n",
    "    104989840: 'SF.BoboMa',\n",
    "    187166593: '0o0',\n",
    "    184319005: 'KingDavidLiu',\n",
    "    419306784: 'NCSBXYT',\n",
    "    142884444: '真香警告',\n",
    "    168214706: 'ttt',\n",
    "    189350835: '幻影米莉亚',\n",
    "    100731890: '闭麦听歌1v9',\n",
    "    260250393: '智力-2',\n",
    "    171858305: 'WoodR',\n",
    "    258630516: 'Griffin',\n",
    "    146615211: 'SBNCXYT',\n",
    "    89052773: 'g.d.p',\n",
    "}"
   ]
  },
  {
   "cell_type": "code",
   "execution_count": 25,
   "metadata": {},
   "outputs": [
    {
     "data": {
      "text/html": [
       "<div>\n",
       "<style scoped>\n",
       "    .dataframe tbody tr th:only-of-type {\n",
       "        vertical-align: middle;\n",
       "    }\n",
       "\n",
       "    .dataframe tbody tr th {\n",
       "        vertical-align: top;\n",
       "    }\n",
       "\n",
       "    .dataframe thead th {\n",
       "        text-align: right;\n",
       "    }\n",
       "</style>\n",
       "<table border=\"1\" class=\"dataframe\">\n",
       "  <thead>\n",
       "    <tr style=\"text-align: right;\">\n",
       "      <th></th>\n",
       "      <th>Id</th>\n",
       "      <th>Name</th>\n",
       "      <th>MMR</th>\n",
       "    </tr>\n",
       "  </thead>\n",
       "  <tbody>\n",
       "    <tr>\n",
       "      <th>0</th>\n",
       "      <td>108664808</td>\n",
       "      <td>WoodRun</td>\n",
       "      <td>3764</td>\n",
       "    </tr>\n",
       "    <tr>\n",
       "      <th>1</th>\n",
       "      <td>143671883</td>\n",
       "      <td>全能大叔</td>\n",
       "      <td>3248</td>\n",
       "    </tr>\n",
       "    <tr>\n",
       "      <th>2</th>\n",
       "      <td>104989840</td>\n",
       "      <td>SF.BoboMa</td>\n",
       "      <td>3491</td>\n",
       "    </tr>\n",
       "    <tr>\n",
       "      <th>3</th>\n",
       "      <td>187166593</td>\n",
       "      <td>Tea mAster</td>\n",
       "      <td>3686</td>\n",
       "    </tr>\n",
       "    <tr>\n",
       "      <th>4</th>\n",
       "      <td>184319005</td>\n",
       "      <td>KingDavidLiu</td>\n",
       "      <td>3758</td>\n",
       "    </tr>\n",
       "    <tr>\n",
       "      <th>5</th>\n",
       "      <td>419306784</td>\n",
       "      <td>NCSBXYT</td>\n",
       "      <td>3827</td>\n",
       "    </tr>\n",
       "    <tr>\n",
       "      <th>6</th>\n",
       "      <td>142884444</td>\n",
       "      <td>钢铁侠</td>\n",
       "      <td>3770</td>\n",
       "    </tr>\n",
       "    <tr>\n",
       "      <th>7</th>\n",
       "      <td>168214706</td>\n",
       "      <td>ttt</td>\n",
       "      <td>3931</td>\n",
       "    </tr>\n",
       "    <tr>\n",
       "      <th>8</th>\n",
       "      <td>189350835</td>\n",
       "      <td>幻影米莉亚</td>\n",
       "      <td>3772</td>\n",
       "    </tr>\n",
       "    <tr>\n",
       "      <th>9</th>\n",
       "      <td>100731890</td>\n",
       "      <td>闭麦听歌1v9</td>\n",
       "      <td>2833</td>\n",
       "    </tr>\n",
       "    <tr>\n",
       "      <th>10</th>\n",
       "      <td>260250393</td>\n",
       "      <td>智力-2</td>\n",
       "      <td>2909</td>\n",
       "    </tr>\n",
       "    <tr>\n",
       "      <th>11</th>\n",
       "      <td>171858305</td>\n",
       "      <td>WoodR</td>\n",
       "      <td>3771</td>\n",
       "    </tr>\n",
       "    <tr>\n",
       "      <th>12</th>\n",
       "      <td>258630516</td>\n",
       "      <td>Griffin</td>\n",
       "      <td>3835</td>\n",
       "    </tr>\n",
       "    <tr>\n",
       "      <th>13</th>\n",
       "      <td>146615211</td>\n",
       "      <td>SBNCXYT</td>\n",
       "      <td>4548</td>\n",
       "    </tr>\n",
       "    <tr>\n",
       "      <th>14</th>\n",
       "      <td>89052773</td>\n",
       "      <td>g.d.p</td>\n",
       "      <td>3237</td>\n",
       "    </tr>\n",
       "  </tbody>\n",
       "</table>\n",
       "</div>"
      ],
      "text/plain": [
       "           Id          Name   MMR\n",
       "0   108664808       WoodRun  3764\n",
       "1   143671883          全能大叔  3248\n",
       "2   104989840     SF.BoboMa  3491\n",
       "3   187166593    Tea mAster  3686\n",
       "4   184319005  KingDavidLiu  3758\n",
       "5   419306784       NCSBXYT  3827\n",
       "6   142884444           钢铁侠  3770\n",
       "7   168214706           ttt  3931\n",
       "8   189350835         幻影米莉亚  3772\n",
       "9   100731890       闭麦听歌1v9  2833\n",
       "10  260250393          智力-2  2909\n",
       "11  171858305         WoodR  3771\n",
       "12  258630516       Griffin  3835\n",
       "13  146615211       SBNCXYT  4548\n",
       "14   89052773         g.d.p  3237"
      ]
     },
     "execution_count": 25,
     "metadata": {},
     "output_type": "execute_result"
    }
   ],
   "source": [
    "mmr_frame = pandas.DataFrame(columns=['Id', 'Name', 'MMR'])\n",
    "for i, k in enumerate(account_id_dict):\n",
    "    r = s.post(open_dota_url + '/players/{}/refresh'.format(k))\n",
    "    r = s.get(open_dota_url + '/players/{}'.format(k))\n",
    "    j = parse(r)\n",
    "    account_id = j['profile']['account_id']\n",
    "    mmr = j.get('mmr_estimate', {}).get('estimate', 'N/A')\n",
    "    name = j['profile']['personaname']\n",
    "    mmr_frame.loc[i] = [account_id, name, mmr]\n",
    "mmr_frame"
   ]
  },
  {
   "cell_type": "code",
   "execution_count": 27,
   "metadata": {},
   "outputs": [
    {
     "data": {
      "text/plain": [
       "{'tracked_until': '1540262153',\n",
       " 'solo_competitive_rank': None,\n",
       " 'competitive_rank': None,\n",
       " 'leaderboard_rank': None,\n",
       " 'rank_tier': 54,\n",
       " 'mmr_estimate': {'estimate': 3764},\n",
       " 'profile': {'account_id': 108664808,\n",
       "  'personaname': 'WoodRun',\n",
       "  'name': None,\n",
       "  'cheese': 0,\n",
       "  'steamid': '76561198068930536',\n",
       "  'avatar': 'https://steamcdn-a.akamaihd.net/steamcommunity/public/images/avatars/da/dae548d4a389e1de01ad4e7e54003d6a3d8f61ba.jpg',\n",
       "  'avatarmedium': 'https://steamcdn-a.akamaihd.net/steamcommunity/public/images/avatars/da/dae548d4a389e1de01ad4e7e54003d6a3d8f61ba_medium.jpg',\n",
       "  'avatarfull': 'https://steamcdn-a.akamaihd.net/steamcommunity/public/images/avatars/da/dae548d4a389e1de01ad4e7e54003d6a3d8f61ba_full.jpg',\n",
       "  'profileurl': 'https://steamcommunity.com/profiles/76561198068930536/',\n",
       "  'last_login': '2018-09-15T22:57:15.392Z',\n",
       "  'loccountrycode': None,\n",
       "  'is_contributor': False}}"
      ]
     },
     "execution_count": 27,
     "metadata": {},
     "output_type": "execute_result"
    }
   ],
   "source": [
    "r = s.get(open_dota_url + '/players/{}'.format(108664808))\n",
    "parse(r)"
   ]
  },
  {
   "cell_type": "code",
   "execution_count": 31,
   "metadata": {},
   "outputs": [
    {
     "name": "stdout",
     "output_type": "stream",
     "text": [
      "[(143671883, '全能大叔'), (104989840, 'SF.BoboMa'), (187166593, 'Tea mAster'), (184319005, 'KingDavidLiu'), (419306784, 'NCSBXYT'), (168214706, 'ttt'), (89052773, 'g.d.p'), (379413204, 'Qqq!'), (142884444, '钢铁侠'), (260250393, '智力-2'), (189350835, '幻影米莉亚'), (100731890, '闭麦听歌1v9'), (119868925, 'Qqx!'), (258630516, 'Griffin'), (61097911, 'Mcor'), (180265830, 'cluberries'), (168014460, 'haulk'), (164355989, 'One PUNCH'), (131267844, '*** 信'), (143418660, 'Modrić'), (274062992, 'DataAversion'), (215255806, 'Cabudlyn'), (146615211, 'SBNCXYT'), (185720278, 'EE-Sports'), (136705010, 'Zc'), (413330489, '唯型ペンシルベニア'), (121819963, 'madaross'), (196892444, 'CrotchMan'), (103413013, 'Poison Milk'), (188490726, '魔法の旋律'), (140179043, 'can we win this shit'), (327584435, 'Gh'), (96855020, 'Doobie'), (154768644, 'Baby Shark'), (101334136, 'NISeYShi')]\n"
     ]
    }
   ],
   "source": [
    "payload = {}\n",
    "r = s.get(open_dota_url + '/players/{}/peers'.format(108664808))\n",
    "blob = json.loads(r.content)\n",
    "friends = [(x['account_id'], x['personaname']) for x in blob]\n",
    "print(friends)"
   ]
  }
 ],
 "metadata": {
  "kernelspec": {
   "display_name": "Python 3",
   "language": "python",
   "name": "python3"
  },
  "language_info": {
   "codemirror_mode": {
    "name": "ipython",
    "version": 3
   },
   "file_extension": ".py",
   "mimetype": "text/x-python",
   "name": "python",
   "nbconvert_exporter": "python",
   "pygments_lexer": "ipython3",
   "version": "3.7.0"
  }
 },
 "nbformat": 4,
 "nbformat_minor": 2
}
